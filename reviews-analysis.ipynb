{
 "cells": [
  {
   "cell_type": "code",
   "execution_count": 46,
   "metadata": {},
   "outputs": [],
   "source": [
    "import pandas as pd\n",
    "\n",
    "import plotly.io as pio\n",
    "import plotly.express as px\n",
    "\n",
    "pio.renderers.default = \"vscode\"\n",
    "pd.set_option('plotting.backend', 'plotly')\n",
    "pd.options.mode.chained_assignment = None  # default='warn'"
   ]
  },
  {
   "cell_type": "code",
   "execution_count": 35,
   "metadata": {},
   "outputs": [],
   "source": [
    "products = pd.read_json('data/cerave-products.json', orient='records')\n",
    "products.set_index('product_id', inplace=True)\n",
    "reviews = pd.read_csv('data/cerave-reviews.csv', low_memory=False, parse_dates=['date'])"
   ]
  },
  {
   "cell_type": "code",
   "execution_count": 36,
   "metadata": {},
   "outputs": [],
   "source": [
    "products['total_reviews'] = reviews.groupby('product_id')['review_id'].count()\n",
    "# Just including top 10 most reviewed products and necessary columns\n",
    "products_include = products.sort_values(by='total_reviews', ascending=False).head(10)[['name', 'brand', 'avg_rating', 'total_reviews']]"
   ]
  },
  {
   "cell_type": "code",
   "execution_count": 41,
   "metadata": {},
   "outputs": [],
   "source": [
    "df = pd.merge(reviews, products_include, on='product_id')\n",
    "df.set_index('date', inplace=True)"
   ]
  },
  {
   "cell_type": "code",
   "execution_count": 55,
   "metadata": {},
   "outputs": [],
   "source": [
    "review_counts = df[df.index > '2018-11-01'].groupby(pd.Grouper(freq='M')).count()['review_id']"
   ]
  },
  {
   "cell_type": "code",
   "execution_count": null,
   "metadata": {},
   "outputs": [],
   "source": [
    "product_ids = list(df['product_id'].unique())"
   ]
  },
  {
   "cell_type": "code",
   "execution_count": 75,
   "metadata": {},
   "outputs": [],
   "source": [
    "dfs = []\n",
    "for id in product_ids:\n",
    "    dfs.append(df[df['product_id'] == id])"
   ]
  },
  {
   "cell_type": "code",
   "execution_count": null,
   "metadata": {},
   "outputs": [],
   "source": [
    "review_counts = []\n",
    "for df in dfs:\n",
    "    review_counts.append(df[df.index > '2018-11-01'].groupby(pd.Grouper(freq='M')).count()['review_id'])"
   ]
  },
  {
   "cell_type": "code",
   "execution_count": 57,
   "metadata": {},
   "outputs": [
    {
     "data": {
      "application/vnd.plotly.v1+json": {
       "config": {
        "plotlyServerURL": "https://plot.ly"
       },
       "data": [
        {
         "hovertemplate": "variable=review_id<br>date=%{x}<br>value=%{y}<extra></extra>",
         "legendgroup": "review_id",
         "line": {
          "color": "#636efa",
          "dash": "solid"
         },
         "marker": {
          "symbol": "circle"
         },
         "mode": "lines",
         "name": "review_id",
         "orientation": "v",
         "showlegend": true,
         "type": "scatter",
         "x": [
          "2018-11-30T00:00:00+00:00",
          "2018-12-31T00:00:00+00:00",
          "2019-01-31T00:00:00+00:00",
          "2019-02-28T00:00:00+00:00",
          "2019-03-31T00:00:00+00:00",
          "2019-04-30T00:00:00+00:00",
          "2019-05-31T00:00:00+00:00",
          "2019-06-30T00:00:00+00:00",
          "2019-07-31T00:00:00+00:00",
          "2019-08-31T00:00:00+00:00",
          "2019-09-30T00:00:00+00:00",
          "2019-10-31T00:00:00+00:00",
          "2019-11-30T00:00:00+00:00",
          "2019-12-31T00:00:00+00:00",
          "2020-01-31T00:00:00+00:00",
          "2020-02-29T00:00:00+00:00",
          "2020-03-31T00:00:00+00:00",
          "2020-04-30T00:00:00+00:00",
          "2020-05-31T00:00:00+00:00",
          "2020-06-30T00:00:00+00:00",
          "2020-07-31T00:00:00+00:00",
          "2020-08-31T00:00:00+00:00",
          "2020-09-30T00:00:00+00:00",
          "2020-10-31T00:00:00+00:00",
          "2020-11-30T00:00:00+00:00",
          "2020-12-31T00:00:00+00:00",
          "2021-01-31T00:00:00+00:00",
          "2021-02-28T00:00:00+00:00",
          "2021-03-31T00:00:00+00:00",
          "2021-04-30T00:00:00+00:00",
          "2021-05-31T00:00:00+00:00",
          "2021-06-30T00:00:00+00:00",
          "2021-07-31T00:00:00+00:00",
          "2021-08-31T00:00:00+00:00",
          "2021-09-30T00:00:00+00:00",
          "2021-10-31T00:00:00+00:00",
          "2021-11-30T00:00:00+00:00",
          "2021-12-31T00:00:00+00:00",
          "2022-01-31T00:00:00+00:00",
          "2022-02-28T00:00:00+00:00",
          "2022-03-31T00:00:00+00:00",
          "2022-04-30T00:00:00+00:00",
          "2022-05-31T00:00:00+00:00",
          "2022-06-30T00:00:00+00:00",
          "2022-07-31T00:00:00+00:00",
          "2022-08-31T00:00:00+00:00",
          "2022-09-30T00:00:00+00:00",
          "2022-10-31T00:00:00+00:00",
          "2022-11-30T00:00:00+00:00",
          "2022-12-31T00:00:00+00:00",
          "2023-01-31T00:00:00+00:00",
          "2023-02-28T00:00:00+00:00",
          "2023-03-31T00:00:00+00:00"
         ],
         "xaxis": "x",
         "y": [
          433,
          1048,
          2015,
          1604,
          1082,
          1111,
          879,
          751,
          736,
          839,
          659,
          843,
          3240,
          5876,
          11095,
          5938,
          2066,
          2524,
          2052,
          1530,
          2921,
          1586,
          1931,
          1412,
          1188,
          1783,
          2096,
          3649,
          2874,
          1876,
          1323,
          4713,
          2489,
          2992,
          2126,
          2054,
          1817,
          1954,
          3060,
          3251,
          3366,
          1229,
          1087,
          1172,
          1040,
          907,
          602,
          533,
          524,
          1562,
          1437,
          597,
          15
         ],
         "yaxis": "y"
        }
       ],
       "layout": {
        "legend": {
         "title": {
          "text": "variable"
         },
         "tracegroupgap": 0
        },
        "margin": {
         "t": 60
        },
        "template": {
         "data": {
          "bar": [
           {
            "error_x": {
             "color": "#2a3f5f"
            },
            "error_y": {
             "color": "#2a3f5f"
            },
            "marker": {
             "line": {
              "color": "#E5ECF6",
              "width": 0.5
             },
             "pattern": {
              "fillmode": "overlay",
              "size": 10,
              "solidity": 0.2
             }
            },
            "type": "bar"
           }
          ],
          "barpolar": [
           {
            "marker": {
             "line": {
              "color": "#E5ECF6",
              "width": 0.5
             },
             "pattern": {
              "fillmode": "overlay",
              "size": 10,
              "solidity": 0.2
             }
            },
            "type": "barpolar"
           }
          ],
          "carpet": [
           {
            "aaxis": {
             "endlinecolor": "#2a3f5f",
             "gridcolor": "white",
             "linecolor": "white",
             "minorgridcolor": "white",
             "startlinecolor": "#2a3f5f"
            },
            "baxis": {
             "endlinecolor": "#2a3f5f",
             "gridcolor": "white",
             "linecolor": "white",
             "minorgridcolor": "white",
             "startlinecolor": "#2a3f5f"
            },
            "type": "carpet"
           }
          ],
          "choropleth": [
           {
            "colorbar": {
             "outlinewidth": 0,
             "ticks": ""
            },
            "type": "choropleth"
           }
          ],
          "contour": [
           {
            "colorbar": {
             "outlinewidth": 0,
             "ticks": ""
            },
            "colorscale": [
             [
              0,
              "#0d0887"
             ],
             [
              0.1111111111111111,
              "#46039f"
             ],
             [
              0.2222222222222222,
              "#7201a8"
             ],
             [
              0.3333333333333333,
              "#9c179e"
             ],
             [
              0.4444444444444444,
              "#bd3786"
             ],
             [
              0.5555555555555556,
              "#d8576b"
             ],
             [
              0.6666666666666666,
              "#ed7953"
             ],
             [
              0.7777777777777778,
              "#fb9f3a"
             ],
             [
              0.8888888888888888,
              "#fdca26"
             ],
             [
              1,
              "#f0f921"
             ]
            ],
            "type": "contour"
           }
          ],
          "contourcarpet": [
           {
            "colorbar": {
             "outlinewidth": 0,
             "ticks": ""
            },
            "type": "contourcarpet"
           }
          ],
          "heatmap": [
           {
            "colorbar": {
             "outlinewidth": 0,
             "ticks": ""
            },
            "colorscale": [
             [
              0,
              "#0d0887"
             ],
             [
              0.1111111111111111,
              "#46039f"
             ],
             [
              0.2222222222222222,
              "#7201a8"
             ],
             [
              0.3333333333333333,
              "#9c179e"
             ],
             [
              0.4444444444444444,
              "#bd3786"
             ],
             [
              0.5555555555555556,
              "#d8576b"
             ],
             [
              0.6666666666666666,
              "#ed7953"
             ],
             [
              0.7777777777777778,
              "#fb9f3a"
             ],
             [
              0.8888888888888888,
              "#fdca26"
             ],
             [
              1,
              "#f0f921"
             ]
            ],
            "type": "heatmap"
           }
          ],
          "heatmapgl": [
           {
            "colorbar": {
             "outlinewidth": 0,
             "ticks": ""
            },
            "colorscale": [
             [
              0,
              "#0d0887"
             ],
             [
              0.1111111111111111,
              "#46039f"
             ],
             [
              0.2222222222222222,
              "#7201a8"
             ],
             [
              0.3333333333333333,
              "#9c179e"
             ],
             [
              0.4444444444444444,
              "#bd3786"
             ],
             [
              0.5555555555555556,
              "#d8576b"
             ],
             [
              0.6666666666666666,
              "#ed7953"
             ],
             [
              0.7777777777777778,
              "#fb9f3a"
             ],
             [
              0.8888888888888888,
              "#fdca26"
             ],
             [
              1,
              "#f0f921"
             ]
            ],
            "type": "heatmapgl"
           }
          ],
          "histogram": [
           {
            "marker": {
             "pattern": {
              "fillmode": "overlay",
              "size": 10,
              "solidity": 0.2
             }
            },
            "type": "histogram"
           }
          ],
          "histogram2d": [
           {
            "colorbar": {
             "outlinewidth": 0,
             "ticks": ""
            },
            "colorscale": [
             [
              0,
              "#0d0887"
             ],
             [
              0.1111111111111111,
              "#46039f"
             ],
             [
              0.2222222222222222,
              "#7201a8"
             ],
             [
              0.3333333333333333,
              "#9c179e"
             ],
             [
              0.4444444444444444,
              "#bd3786"
             ],
             [
              0.5555555555555556,
              "#d8576b"
             ],
             [
              0.6666666666666666,
              "#ed7953"
             ],
             [
              0.7777777777777778,
              "#fb9f3a"
             ],
             [
              0.8888888888888888,
              "#fdca26"
             ],
             [
              1,
              "#f0f921"
             ]
            ],
            "type": "histogram2d"
           }
          ],
          "histogram2dcontour": [
           {
            "colorbar": {
             "outlinewidth": 0,
             "ticks": ""
            },
            "colorscale": [
             [
              0,
              "#0d0887"
             ],
             [
              0.1111111111111111,
              "#46039f"
             ],
             [
              0.2222222222222222,
              "#7201a8"
             ],
             [
              0.3333333333333333,
              "#9c179e"
             ],
             [
              0.4444444444444444,
              "#bd3786"
             ],
             [
              0.5555555555555556,
              "#d8576b"
             ],
             [
              0.6666666666666666,
              "#ed7953"
             ],
             [
              0.7777777777777778,
              "#fb9f3a"
             ],
             [
              0.8888888888888888,
              "#fdca26"
             ],
             [
              1,
              "#f0f921"
             ]
            ],
            "type": "histogram2dcontour"
           }
          ],
          "mesh3d": [
           {
            "colorbar": {
             "outlinewidth": 0,
             "ticks": ""
            },
            "type": "mesh3d"
           }
          ],
          "parcoords": [
           {
            "line": {
             "colorbar": {
              "outlinewidth": 0,
              "ticks": ""
             }
            },
            "type": "parcoords"
           }
          ],
          "pie": [
           {
            "automargin": true,
            "type": "pie"
           }
          ],
          "scatter": [
           {
            "fillpattern": {
             "fillmode": "overlay",
             "size": 10,
             "solidity": 0.2
            },
            "type": "scatter"
           }
          ],
          "scatter3d": [
           {
            "line": {
             "colorbar": {
              "outlinewidth": 0,
              "ticks": ""
             }
            },
            "marker": {
             "colorbar": {
              "outlinewidth": 0,
              "ticks": ""
             }
            },
            "type": "scatter3d"
           }
          ],
          "scattercarpet": [
           {
            "marker": {
             "colorbar": {
              "outlinewidth": 0,
              "ticks": ""
             }
            },
            "type": "scattercarpet"
           }
          ],
          "scattergeo": [
           {
            "marker": {
             "colorbar": {
              "outlinewidth": 0,
              "ticks": ""
             }
            },
            "type": "scattergeo"
           }
          ],
          "scattergl": [
           {
            "marker": {
             "colorbar": {
              "outlinewidth": 0,
              "ticks": ""
             }
            },
            "type": "scattergl"
           }
          ],
          "scattermapbox": [
           {
            "marker": {
             "colorbar": {
              "outlinewidth": 0,
              "ticks": ""
             }
            },
            "type": "scattermapbox"
           }
          ],
          "scatterpolar": [
           {
            "marker": {
             "colorbar": {
              "outlinewidth": 0,
              "ticks": ""
             }
            },
            "type": "scatterpolar"
           }
          ],
          "scatterpolargl": [
           {
            "marker": {
             "colorbar": {
              "outlinewidth": 0,
              "ticks": ""
             }
            },
            "type": "scatterpolargl"
           }
          ],
          "scatterternary": [
           {
            "marker": {
             "colorbar": {
              "outlinewidth": 0,
              "ticks": ""
             }
            },
            "type": "scatterternary"
           }
          ],
          "surface": [
           {
            "colorbar": {
             "outlinewidth": 0,
             "ticks": ""
            },
            "colorscale": [
             [
              0,
              "#0d0887"
             ],
             [
              0.1111111111111111,
              "#46039f"
             ],
             [
              0.2222222222222222,
              "#7201a8"
             ],
             [
              0.3333333333333333,
              "#9c179e"
             ],
             [
              0.4444444444444444,
              "#bd3786"
             ],
             [
              0.5555555555555556,
              "#d8576b"
             ],
             [
              0.6666666666666666,
              "#ed7953"
             ],
             [
              0.7777777777777778,
              "#fb9f3a"
             ],
             [
              0.8888888888888888,
              "#fdca26"
             ],
             [
              1,
              "#f0f921"
             ]
            ],
            "type": "surface"
           }
          ],
          "table": [
           {
            "cells": {
             "fill": {
              "color": "#EBF0F8"
             },
             "line": {
              "color": "white"
             }
            },
            "header": {
             "fill": {
              "color": "#C8D4E3"
             },
             "line": {
              "color": "white"
             }
            },
            "type": "table"
           }
          ]
         },
         "layout": {
          "annotationdefaults": {
           "arrowcolor": "#2a3f5f",
           "arrowhead": 0,
           "arrowwidth": 1
          },
          "autotypenumbers": "strict",
          "coloraxis": {
           "colorbar": {
            "outlinewidth": 0,
            "ticks": ""
           }
          },
          "colorscale": {
           "diverging": [
            [
             0,
             "#8e0152"
            ],
            [
             0.1,
             "#c51b7d"
            ],
            [
             0.2,
             "#de77ae"
            ],
            [
             0.3,
             "#f1b6da"
            ],
            [
             0.4,
             "#fde0ef"
            ],
            [
             0.5,
             "#f7f7f7"
            ],
            [
             0.6,
             "#e6f5d0"
            ],
            [
             0.7,
             "#b8e186"
            ],
            [
             0.8,
             "#7fbc41"
            ],
            [
             0.9,
             "#4d9221"
            ],
            [
             1,
             "#276419"
            ]
           ],
           "sequential": [
            [
             0,
             "#0d0887"
            ],
            [
             0.1111111111111111,
             "#46039f"
            ],
            [
             0.2222222222222222,
             "#7201a8"
            ],
            [
             0.3333333333333333,
             "#9c179e"
            ],
            [
             0.4444444444444444,
             "#bd3786"
            ],
            [
             0.5555555555555556,
             "#d8576b"
            ],
            [
             0.6666666666666666,
             "#ed7953"
            ],
            [
             0.7777777777777778,
             "#fb9f3a"
            ],
            [
             0.8888888888888888,
             "#fdca26"
            ],
            [
             1,
             "#f0f921"
            ]
           ],
           "sequentialminus": [
            [
             0,
             "#0d0887"
            ],
            [
             0.1111111111111111,
             "#46039f"
            ],
            [
             0.2222222222222222,
             "#7201a8"
            ],
            [
             0.3333333333333333,
             "#9c179e"
            ],
            [
             0.4444444444444444,
             "#bd3786"
            ],
            [
             0.5555555555555556,
             "#d8576b"
            ],
            [
             0.6666666666666666,
             "#ed7953"
            ],
            [
             0.7777777777777778,
             "#fb9f3a"
            ],
            [
             0.8888888888888888,
             "#fdca26"
            ],
            [
             1,
             "#f0f921"
            ]
           ]
          },
          "colorway": [
           "#636efa",
           "#EF553B",
           "#00cc96",
           "#ab63fa",
           "#FFA15A",
           "#19d3f3",
           "#FF6692",
           "#B6E880",
           "#FF97FF",
           "#FECB52"
          ],
          "font": {
           "color": "#2a3f5f"
          },
          "geo": {
           "bgcolor": "white",
           "lakecolor": "white",
           "landcolor": "#E5ECF6",
           "showlakes": true,
           "showland": true,
           "subunitcolor": "white"
          },
          "hoverlabel": {
           "align": "left"
          },
          "hovermode": "closest",
          "mapbox": {
           "style": "light"
          },
          "paper_bgcolor": "white",
          "plot_bgcolor": "#E5ECF6",
          "polar": {
           "angularaxis": {
            "gridcolor": "white",
            "linecolor": "white",
            "ticks": ""
           },
           "bgcolor": "#E5ECF6",
           "radialaxis": {
            "gridcolor": "white",
            "linecolor": "white",
            "ticks": ""
           }
          },
          "scene": {
           "xaxis": {
            "backgroundcolor": "#E5ECF6",
            "gridcolor": "white",
            "gridwidth": 2,
            "linecolor": "white",
            "showbackground": true,
            "ticks": "",
            "zerolinecolor": "white"
           },
           "yaxis": {
            "backgroundcolor": "#E5ECF6",
            "gridcolor": "white",
            "gridwidth": 2,
            "linecolor": "white",
            "showbackground": true,
            "ticks": "",
            "zerolinecolor": "white"
           },
           "zaxis": {
            "backgroundcolor": "#E5ECF6",
            "gridcolor": "white",
            "gridwidth": 2,
            "linecolor": "white",
            "showbackground": true,
            "ticks": "",
            "zerolinecolor": "white"
           }
          },
          "shapedefaults": {
           "line": {
            "color": "#2a3f5f"
           }
          },
          "ternary": {
           "aaxis": {
            "gridcolor": "white",
            "linecolor": "white",
            "ticks": ""
           },
           "baxis": {
            "gridcolor": "white",
            "linecolor": "white",
            "ticks": ""
           },
           "bgcolor": "#E5ECF6",
           "caxis": {
            "gridcolor": "white",
            "linecolor": "white",
            "ticks": ""
           }
          },
          "title": {
           "x": 0.05
          },
          "xaxis": {
           "automargin": true,
           "gridcolor": "white",
           "linecolor": "white",
           "ticks": "",
           "title": {
            "standoff": 15
           },
           "zerolinecolor": "white",
           "zerolinewidth": 2
          },
          "yaxis": {
           "automargin": true,
           "gridcolor": "white",
           "linecolor": "white",
           "ticks": "",
           "title": {
            "standoff": 15
           },
           "zerolinecolor": "white",
           "zerolinewidth": 2
          }
         }
        },
        "xaxis": {
         "anchor": "y",
         "domain": [
          0,
          1
         ],
         "title": {
          "text": "date"
         }
        },
        "yaxis": {
         "anchor": "x",
         "domain": [
          0,
          1
         ],
         "title": {
          "text": "value"
         }
        }
       }
      }
     },
     "metadata": {},
     "output_type": "display_data"
    }
   ],
   "source": [
    "fig = px.line(review_counts)"
   ]
  },
  {
   "cell_type": "code",
   "execution_count": 67,
   "metadata": {},
   "outputs": [],
   "source": [
    "rating_means = df[(df.index > '2018-11-01') & (df.index < '2023-03-01')].groupby(pd.Grouper(freq='M')).mean()['rating']"
   ]
  },
  {
   "cell_type": "code",
   "execution_count": 68,
   "metadata": {},
   "outputs": [
    {
     "data": {
      "application/vnd.plotly.v1+json": {
       "config": {
        "plotlyServerURL": "https://plot.ly"
       },
       "data": [
        {
         "hovertemplate": "variable=rating<br>date=%{x}<br>value=%{y}<extra></extra>",
         "legendgroup": "rating",
         "line": {
          "color": "#636efa",
          "dash": "solid"
         },
         "marker": {
          "symbol": "circle"
         },
         "mode": "lines",
         "name": "rating",
         "orientation": "v",
         "showlegend": true,
         "type": "scatter",
         "x": [
          "2018-11-30T00:00:00+00:00",
          "2018-12-31T00:00:00+00:00",
          "2019-01-31T00:00:00+00:00",
          "2019-02-28T00:00:00+00:00",
          "2019-03-31T00:00:00+00:00",
          "2019-04-30T00:00:00+00:00",
          "2019-05-31T00:00:00+00:00",
          "2019-06-30T00:00:00+00:00",
          "2019-07-31T00:00:00+00:00",
          "2019-08-31T00:00:00+00:00",
          "2019-09-30T00:00:00+00:00",
          "2019-10-31T00:00:00+00:00",
          "2019-11-30T00:00:00+00:00",
          "2019-12-31T00:00:00+00:00",
          "2020-01-31T00:00:00+00:00",
          "2020-02-29T00:00:00+00:00",
          "2020-03-31T00:00:00+00:00",
          "2020-04-30T00:00:00+00:00",
          "2020-05-31T00:00:00+00:00",
          "2020-06-30T00:00:00+00:00",
          "2020-07-31T00:00:00+00:00",
          "2020-08-31T00:00:00+00:00",
          "2020-09-30T00:00:00+00:00",
          "2020-10-31T00:00:00+00:00",
          "2020-11-30T00:00:00+00:00",
          "2020-12-31T00:00:00+00:00",
          "2021-01-31T00:00:00+00:00",
          "2021-02-28T00:00:00+00:00",
          "2021-03-31T00:00:00+00:00",
          "2021-04-30T00:00:00+00:00",
          "2021-05-31T00:00:00+00:00",
          "2021-06-30T00:00:00+00:00",
          "2021-07-31T00:00:00+00:00",
          "2021-08-31T00:00:00+00:00",
          "2021-09-30T00:00:00+00:00",
          "2021-10-31T00:00:00+00:00",
          "2021-11-30T00:00:00+00:00",
          "2021-12-31T00:00:00+00:00",
          "2022-01-31T00:00:00+00:00",
          "2022-02-28T00:00:00+00:00",
          "2022-03-31T00:00:00+00:00",
          "2022-04-30T00:00:00+00:00",
          "2022-05-31T00:00:00+00:00",
          "2022-06-30T00:00:00+00:00",
          "2022-07-31T00:00:00+00:00",
          "2022-08-31T00:00:00+00:00",
          "2022-09-30T00:00:00+00:00",
          "2022-10-31T00:00:00+00:00",
          "2022-11-30T00:00:00+00:00",
          "2022-12-31T00:00:00+00:00",
          "2023-01-31T00:00:00+00:00",
          "2023-02-28T00:00:00+00:00"
         ],
         "xaxis": "x",
         "y": [
          4.635103926096997,
          4.623091603053435,
          4.707692307692308,
          4.673940149625935,
          4.703327171903882,
          4.692169216921692,
          4.621160409556314,
          4.691078561917443,
          4.703804347826087,
          4.707985697258641,
          4.754172989377845,
          4.673784104389086,
          4.678703703703704,
          4.625255275697754,
          4.666696710229833,
          4.664365106096329,
          4.706679574056147,
          4.65095087163233,
          4.771929824561403,
          4.711764705882353,
          4.760013693940431,
          4.728247162673393,
          4.735888140859658,
          4.691926345609065,
          4.6506734006734005,
          4.784071789119461,
          4.713740458015267,
          4.636338722937791,
          4.66910229645094,
          4.653518123667378,
          4.7173091458805745,
          4.720560152768937,
          4.721976697468863,
          4.730614973262032,
          4.703198494825965,
          4.740019474196689,
          4.729223995597138,
          4.739508700102355,
          4.754901960784314,
          4.759766225776684,
          4.726678550207962,
          4.7233523189585025,
          4.794848206071757,
          4.691126279863481,
          4.694230769230769,
          4.695700110253584,
          4.740863787375416,
          4.6041275797373356,
          4.675572519083969,
          4.674135723431498,
          4.64857341684064,
          4.589614740368509
         ],
         "yaxis": "y"
        }
       ],
       "layout": {
        "legend": {
         "title": {
          "text": "variable"
         },
         "tracegroupgap": 0
        },
        "margin": {
         "t": 60
        },
        "template": {
         "data": {
          "bar": [
           {
            "error_x": {
             "color": "#2a3f5f"
            },
            "error_y": {
             "color": "#2a3f5f"
            },
            "marker": {
             "line": {
              "color": "#E5ECF6",
              "width": 0.5
             },
             "pattern": {
              "fillmode": "overlay",
              "size": 10,
              "solidity": 0.2
             }
            },
            "type": "bar"
           }
          ],
          "barpolar": [
           {
            "marker": {
             "line": {
              "color": "#E5ECF6",
              "width": 0.5
             },
             "pattern": {
              "fillmode": "overlay",
              "size": 10,
              "solidity": 0.2
             }
            },
            "type": "barpolar"
           }
          ],
          "carpet": [
           {
            "aaxis": {
             "endlinecolor": "#2a3f5f",
             "gridcolor": "white",
             "linecolor": "white",
             "minorgridcolor": "white",
             "startlinecolor": "#2a3f5f"
            },
            "baxis": {
             "endlinecolor": "#2a3f5f",
             "gridcolor": "white",
             "linecolor": "white",
             "minorgridcolor": "white",
             "startlinecolor": "#2a3f5f"
            },
            "type": "carpet"
           }
          ],
          "choropleth": [
           {
            "colorbar": {
             "outlinewidth": 0,
             "ticks": ""
            },
            "type": "choropleth"
           }
          ],
          "contour": [
           {
            "colorbar": {
             "outlinewidth": 0,
             "ticks": ""
            },
            "colorscale": [
             [
              0,
              "#0d0887"
             ],
             [
              0.1111111111111111,
              "#46039f"
             ],
             [
              0.2222222222222222,
              "#7201a8"
             ],
             [
              0.3333333333333333,
              "#9c179e"
             ],
             [
              0.4444444444444444,
              "#bd3786"
             ],
             [
              0.5555555555555556,
              "#d8576b"
             ],
             [
              0.6666666666666666,
              "#ed7953"
             ],
             [
              0.7777777777777778,
              "#fb9f3a"
             ],
             [
              0.8888888888888888,
              "#fdca26"
             ],
             [
              1,
              "#f0f921"
             ]
            ],
            "type": "contour"
           }
          ],
          "contourcarpet": [
           {
            "colorbar": {
             "outlinewidth": 0,
             "ticks": ""
            },
            "type": "contourcarpet"
           }
          ],
          "heatmap": [
           {
            "colorbar": {
             "outlinewidth": 0,
             "ticks": ""
            },
            "colorscale": [
             [
              0,
              "#0d0887"
             ],
             [
              0.1111111111111111,
              "#46039f"
             ],
             [
              0.2222222222222222,
              "#7201a8"
             ],
             [
              0.3333333333333333,
              "#9c179e"
             ],
             [
              0.4444444444444444,
              "#bd3786"
             ],
             [
              0.5555555555555556,
              "#d8576b"
             ],
             [
              0.6666666666666666,
              "#ed7953"
             ],
             [
              0.7777777777777778,
              "#fb9f3a"
             ],
             [
              0.8888888888888888,
              "#fdca26"
             ],
             [
              1,
              "#f0f921"
             ]
            ],
            "type": "heatmap"
           }
          ],
          "heatmapgl": [
           {
            "colorbar": {
             "outlinewidth": 0,
             "ticks": ""
            },
            "colorscale": [
             [
              0,
              "#0d0887"
             ],
             [
              0.1111111111111111,
              "#46039f"
             ],
             [
              0.2222222222222222,
              "#7201a8"
             ],
             [
              0.3333333333333333,
              "#9c179e"
             ],
             [
              0.4444444444444444,
              "#bd3786"
             ],
             [
              0.5555555555555556,
              "#d8576b"
             ],
             [
              0.6666666666666666,
              "#ed7953"
             ],
             [
              0.7777777777777778,
              "#fb9f3a"
             ],
             [
              0.8888888888888888,
              "#fdca26"
             ],
             [
              1,
              "#f0f921"
             ]
            ],
            "type": "heatmapgl"
           }
          ],
          "histogram": [
           {
            "marker": {
             "pattern": {
              "fillmode": "overlay",
              "size": 10,
              "solidity": 0.2
             }
            },
            "type": "histogram"
           }
          ],
          "histogram2d": [
           {
            "colorbar": {
             "outlinewidth": 0,
             "ticks": ""
            },
            "colorscale": [
             [
              0,
              "#0d0887"
             ],
             [
              0.1111111111111111,
              "#46039f"
             ],
             [
              0.2222222222222222,
              "#7201a8"
             ],
             [
              0.3333333333333333,
              "#9c179e"
             ],
             [
              0.4444444444444444,
              "#bd3786"
             ],
             [
              0.5555555555555556,
              "#d8576b"
             ],
             [
              0.6666666666666666,
              "#ed7953"
             ],
             [
              0.7777777777777778,
              "#fb9f3a"
             ],
             [
              0.8888888888888888,
              "#fdca26"
             ],
             [
              1,
              "#f0f921"
             ]
            ],
            "type": "histogram2d"
           }
          ],
          "histogram2dcontour": [
           {
            "colorbar": {
             "outlinewidth": 0,
             "ticks": ""
            },
            "colorscale": [
             [
              0,
              "#0d0887"
             ],
             [
              0.1111111111111111,
              "#46039f"
             ],
             [
              0.2222222222222222,
              "#7201a8"
             ],
             [
              0.3333333333333333,
              "#9c179e"
             ],
             [
              0.4444444444444444,
              "#bd3786"
             ],
             [
              0.5555555555555556,
              "#d8576b"
             ],
             [
              0.6666666666666666,
              "#ed7953"
             ],
             [
              0.7777777777777778,
              "#fb9f3a"
             ],
             [
              0.8888888888888888,
              "#fdca26"
             ],
             [
              1,
              "#f0f921"
             ]
            ],
            "type": "histogram2dcontour"
           }
          ],
          "mesh3d": [
           {
            "colorbar": {
             "outlinewidth": 0,
             "ticks": ""
            },
            "type": "mesh3d"
           }
          ],
          "parcoords": [
           {
            "line": {
             "colorbar": {
              "outlinewidth": 0,
              "ticks": ""
             }
            },
            "type": "parcoords"
           }
          ],
          "pie": [
           {
            "automargin": true,
            "type": "pie"
           }
          ],
          "scatter": [
           {
            "fillpattern": {
             "fillmode": "overlay",
             "size": 10,
             "solidity": 0.2
            },
            "type": "scatter"
           }
          ],
          "scatter3d": [
           {
            "line": {
             "colorbar": {
              "outlinewidth": 0,
              "ticks": ""
             }
            },
            "marker": {
             "colorbar": {
              "outlinewidth": 0,
              "ticks": ""
             }
            },
            "type": "scatter3d"
           }
          ],
          "scattercarpet": [
           {
            "marker": {
             "colorbar": {
              "outlinewidth": 0,
              "ticks": ""
             }
            },
            "type": "scattercarpet"
           }
          ],
          "scattergeo": [
           {
            "marker": {
             "colorbar": {
              "outlinewidth": 0,
              "ticks": ""
             }
            },
            "type": "scattergeo"
           }
          ],
          "scattergl": [
           {
            "marker": {
             "colorbar": {
              "outlinewidth": 0,
              "ticks": ""
             }
            },
            "type": "scattergl"
           }
          ],
          "scattermapbox": [
           {
            "marker": {
             "colorbar": {
              "outlinewidth": 0,
              "ticks": ""
             }
            },
            "type": "scattermapbox"
           }
          ],
          "scatterpolar": [
           {
            "marker": {
             "colorbar": {
              "outlinewidth": 0,
              "ticks": ""
             }
            },
            "type": "scatterpolar"
           }
          ],
          "scatterpolargl": [
           {
            "marker": {
             "colorbar": {
              "outlinewidth": 0,
              "ticks": ""
             }
            },
            "type": "scatterpolargl"
           }
          ],
          "scatterternary": [
           {
            "marker": {
             "colorbar": {
              "outlinewidth": 0,
              "ticks": ""
             }
            },
            "type": "scatterternary"
           }
          ],
          "surface": [
           {
            "colorbar": {
             "outlinewidth": 0,
             "ticks": ""
            },
            "colorscale": [
             [
              0,
              "#0d0887"
             ],
             [
              0.1111111111111111,
              "#46039f"
             ],
             [
              0.2222222222222222,
              "#7201a8"
             ],
             [
              0.3333333333333333,
              "#9c179e"
             ],
             [
              0.4444444444444444,
              "#bd3786"
             ],
             [
              0.5555555555555556,
              "#d8576b"
             ],
             [
              0.6666666666666666,
              "#ed7953"
             ],
             [
              0.7777777777777778,
              "#fb9f3a"
             ],
             [
              0.8888888888888888,
              "#fdca26"
             ],
             [
              1,
              "#f0f921"
             ]
            ],
            "type": "surface"
           }
          ],
          "table": [
           {
            "cells": {
             "fill": {
              "color": "#EBF0F8"
             },
             "line": {
              "color": "white"
             }
            },
            "header": {
             "fill": {
              "color": "#C8D4E3"
             },
             "line": {
              "color": "white"
             }
            },
            "type": "table"
           }
          ]
         },
         "layout": {
          "annotationdefaults": {
           "arrowcolor": "#2a3f5f",
           "arrowhead": 0,
           "arrowwidth": 1
          },
          "autotypenumbers": "strict",
          "coloraxis": {
           "colorbar": {
            "outlinewidth": 0,
            "ticks": ""
           }
          },
          "colorscale": {
           "diverging": [
            [
             0,
             "#8e0152"
            ],
            [
             0.1,
             "#c51b7d"
            ],
            [
             0.2,
             "#de77ae"
            ],
            [
             0.3,
             "#f1b6da"
            ],
            [
             0.4,
             "#fde0ef"
            ],
            [
             0.5,
             "#f7f7f7"
            ],
            [
             0.6,
             "#e6f5d0"
            ],
            [
             0.7,
             "#b8e186"
            ],
            [
             0.8,
             "#7fbc41"
            ],
            [
             0.9,
             "#4d9221"
            ],
            [
             1,
             "#276419"
            ]
           ],
           "sequential": [
            [
             0,
             "#0d0887"
            ],
            [
             0.1111111111111111,
             "#46039f"
            ],
            [
             0.2222222222222222,
             "#7201a8"
            ],
            [
             0.3333333333333333,
             "#9c179e"
            ],
            [
             0.4444444444444444,
             "#bd3786"
            ],
            [
             0.5555555555555556,
             "#d8576b"
            ],
            [
             0.6666666666666666,
             "#ed7953"
            ],
            [
             0.7777777777777778,
             "#fb9f3a"
            ],
            [
             0.8888888888888888,
             "#fdca26"
            ],
            [
             1,
             "#f0f921"
            ]
           ],
           "sequentialminus": [
            [
             0,
             "#0d0887"
            ],
            [
             0.1111111111111111,
             "#46039f"
            ],
            [
             0.2222222222222222,
             "#7201a8"
            ],
            [
             0.3333333333333333,
             "#9c179e"
            ],
            [
             0.4444444444444444,
             "#bd3786"
            ],
            [
             0.5555555555555556,
             "#d8576b"
            ],
            [
             0.6666666666666666,
             "#ed7953"
            ],
            [
             0.7777777777777778,
             "#fb9f3a"
            ],
            [
             0.8888888888888888,
             "#fdca26"
            ],
            [
             1,
             "#f0f921"
            ]
           ]
          },
          "colorway": [
           "#636efa",
           "#EF553B",
           "#00cc96",
           "#ab63fa",
           "#FFA15A",
           "#19d3f3",
           "#FF6692",
           "#B6E880",
           "#FF97FF",
           "#FECB52"
          ],
          "font": {
           "color": "#2a3f5f"
          },
          "geo": {
           "bgcolor": "white",
           "lakecolor": "white",
           "landcolor": "#E5ECF6",
           "showlakes": true,
           "showland": true,
           "subunitcolor": "white"
          },
          "hoverlabel": {
           "align": "left"
          },
          "hovermode": "closest",
          "mapbox": {
           "style": "light"
          },
          "paper_bgcolor": "white",
          "plot_bgcolor": "#E5ECF6",
          "polar": {
           "angularaxis": {
            "gridcolor": "white",
            "linecolor": "white",
            "ticks": ""
           },
           "bgcolor": "#E5ECF6",
           "radialaxis": {
            "gridcolor": "white",
            "linecolor": "white",
            "ticks": ""
           }
          },
          "scene": {
           "xaxis": {
            "backgroundcolor": "#E5ECF6",
            "gridcolor": "white",
            "gridwidth": 2,
            "linecolor": "white",
            "showbackground": true,
            "ticks": "",
            "zerolinecolor": "white"
           },
           "yaxis": {
            "backgroundcolor": "#E5ECF6",
            "gridcolor": "white",
            "gridwidth": 2,
            "linecolor": "white",
            "showbackground": true,
            "ticks": "",
            "zerolinecolor": "white"
           },
           "zaxis": {
            "backgroundcolor": "#E5ECF6",
            "gridcolor": "white",
            "gridwidth": 2,
            "linecolor": "white",
            "showbackground": true,
            "ticks": "",
            "zerolinecolor": "white"
           }
          },
          "shapedefaults": {
           "line": {
            "color": "#2a3f5f"
           }
          },
          "ternary": {
           "aaxis": {
            "gridcolor": "white",
            "linecolor": "white",
            "ticks": ""
           },
           "baxis": {
            "gridcolor": "white",
            "linecolor": "white",
            "ticks": ""
           },
           "bgcolor": "#E5ECF6",
           "caxis": {
            "gridcolor": "white",
            "linecolor": "white",
            "ticks": ""
           }
          },
          "title": {
           "x": 0.05
          },
          "xaxis": {
           "automargin": true,
           "gridcolor": "white",
           "linecolor": "white",
           "ticks": "",
           "title": {
            "standoff": 15
           },
           "zerolinecolor": "white",
           "zerolinewidth": 2
          },
          "yaxis": {
           "automargin": true,
           "gridcolor": "white",
           "linecolor": "white",
           "ticks": "",
           "title": {
            "standoff": 15
           },
           "zerolinecolor": "white",
           "zerolinewidth": 2
          }
         }
        },
        "xaxis": {
         "anchor": "y",
         "domain": [
          0,
          1
         ],
         "title": {
          "text": "date"
         }
        },
        "yaxis": {
         "anchor": "x",
         "domain": [
          0,
          1
         ],
         "title": {
          "text": "value"
         }
        }
       }
      }
     },
     "metadata": {},
     "output_type": "display_data"
    }
   ],
   "source": [
    "px.line(rating_means)"
   ]
  },
  {
   "cell_type": "code",
   "execution_count": 38,
   "metadata": {},
   "outputs": [
    {
     "data": {
      "text/html": [
       "<div>\n",
       "<style scoped>\n",
       "    .dataframe tbody tr th:only-of-type {\n",
       "        vertical-align: middle;\n",
       "    }\n",
       "\n",
       "    .dataframe tbody tr th {\n",
       "        vertical-align: top;\n",
       "    }\n",
       "\n",
       "    .dataframe thead th {\n",
       "        text-align: right;\n",
       "    }\n",
       "</style>\n",
       "<table border=\"1\" class=\"dataframe\">\n",
       "  <thead>\n",
       "    <tr style=\"text-align: right;\">\n",
       "      <th></th>\n",
       "      <th>product_id</th>\n",
       "      <th>review_id</th>\n",
       "      <th>title</th>\n",
       "      <th>rating</th>\n",
       "      <th>text</th>\n",
       "      <th>date</th>\n",
       "      <th>pos_feedback_count</th>\n",
       "      <th>client_res_count</th>\n",
       "      <th>name</th>\n",
       "      <th>brand</th>\n",
       "      <th>avg_rating</th>\n",
       "      <th>total_reviews</th>\n",
       "    </tr>\n",
       "  </thead>\n",
       "  <tbody>\n",
       "    <tr>\n",
       "      <th>0</th>\n",
       "      <td>6000200804361</td>\n",
       "      <td>242351309</td>\n",
       "      <td>Non irritating</td>\n",
       "      <td>5</td>\n",
       "      <td>Love it! I’ve been using this product every da...</td>\n",
       "      <td>2023-03-01 05:07:08+00:00</td>\n",
       "      <td>0</td>\n",
       "      <td>0</td>\n",
       "      <td>CeraVe Gentle Foaming Facial Cleanser With Nia...</td>\n",
       "      <td>CeraVe</td>\n",
       "      <td>4.6812</td>\n",
       "      <td>6869.0</td>\n",
       "    </tr>\n",
       "    <tr>\n",
       "      <th>1</th>\n",
       "      <td>6000200804361</td>\n",
       "      <td>242038751</td>\n",
       "      <td>Great daily cleanser</td>\n",
       "      <td>4</td>\n",
       "      <td>This is a great daily cleanser for those with ...</td>\n",
       "      <td>2023-02-25 17:47:47+00:00</td>\n",
       "      <td>0</td>\n",
       "      <td>0</td>\n",
       "      <td>CeraVe Gentle Foaming Facial Cleanser With Nia...</td>\n",
       "      <td>CeraVe</td>\n",
       "      <td>4.6812</td>\n",
       "      <td>6869.0</td>\n",
       "    </tr>\n",
       "    <tr>\n",
       "      <th>2</th>\n",
       "      <td>6000200804361</td>\n",
       "      <td>241958510</td>\n",
       "      <td>Excellent Face wash!</td>\n",
       "      <td>5</td>\n",
       "      <td>I won't use anything other than this face wash...</td>\n",
       "      <td>2023-02-24 23:01:46+00:00</td>\n",
       "      <td>0</td>\n",
       "      <td>0</td>\n",
       "      <td>CeraVe Gentle Foaming Facial Cleanser With Nia...</td>\n",
       "      <td>CeraVe</td>\n",
       "      <td>4.6812</td>\n",
       "      <td>6869.0</td>\n",
       "    </tr>\n",
       "    <tr>\n",
       "      <th>3</th>\n",
       "      <td>6000200804361</td>\n",
       "      <td>241914339</td>\n",
       "      <td>This gel will leave your face like a barbie.</td>\n",
       "      <td>5</td>\n",
       "      <td>If I had to buy it again, I would buy it a tho...</td>\n",
       "      <td>2023-02-24 11:58:27+00:00</td>\n",
       "      <td>0</td>\n",
       "      <td>0</td>\n",
       "      <td>CeraVe Gentle Foaming Facial Cleanser With Nia...</td>\n",
       "      <td>CeraVe</td>\n",
       "      <td>4.6812</td>\n",
       "      <td>6869.0</td>\n",
       "    </tr>\n",
       "    <tr>\n",
       "      <th>4</th>\n",
       "      <td>6000200804361</td>\n",
       "      <td>241706603</td>\n",
       "      <td>No more dry skin.</td>\n",
       "      <td>5</td>\n",
       "      <td>If you’re looking for a cleanser that cleans b...</td>\n",
       "      <td>2023-02-21 23:32:55+00:00</td>\n",
       "      <td>0</td>\n",
       "      <td>0</td>\n",
       "      <td>CeraVe Gentle Foaming Facial Cleanser With Nia...</td>\n",
       "      <td>CeraVe</td>\n",
       "      <td>4.6812</td>\n",
       "      <td>6869.0</td>\n",
       "    </tr>\n",
       "    <tr>\n",
       "      <th>...</th>\n",
       "      <td>...</td>\n",
       "      <td>...</td>\n",
       "      <td>...</td>\n",
       "      <td>...</td>\n",
       "      <td>...</td>\n",
       "      <td>...</td>\n",
       "      <td>...</td>\n",
       "      <td>...</td>\n",
       "      <td>...</td>\n",
       "      <td>...</td>\n",
       "      <td>...</td>\n",
       "      <td>...</td>\n",
       "    </tr>\n",
       "    <tr>\n",
       "      <th>108188</th>\n",
       "      <td>6000105907280</td>\n",
       "      <td>52641253</td>\n",
       "      <td>Thick cream</td>\n",
       "      <td>1</td>\n",
       "      <td>bought it 2 weeks ago, doesnt absorb into my s...</td>\n",
       "      <td>2015-05-10 15:49:36+00:00</td>\n",
       "      <td>4</td>\n",
       "      <td>0</td>\n",
       "      <td>CeraVe® Moisturizing Cream</td>\n",
       "      <td>CeraVe</td>\n",
       "      <td>4.7209</td>\n",
       "      <td>13913.0</td>\n",
       "    </tr>\n",
       "    <tr>\n",
       "      <th>108189</th>\n",
       "      <td>6000105907280</td>\n",
       "      <td>52103398</td>\n",
       "      <td>Great product.</td>\n",
       "      <td>5</td>\n",
       "      <td>I had a big problem with a itchy back and this...</td>\n",
       "      <td>2015-05-04 19:14:28+00:00</td>\n",
       "      <td>0</td>\n",
       "      <td>0</td>\n",
       "      <td>CeraVe® Moisturizing Cream</td>\n",
       "      <td>CeraVe</td>\n",
       "      <td>4.7209</td>\n",
       "      <td>13913.0</td>\n",
       "    </tr>\n",
       "    <tr>\n",
       "      <th>108190</th>\n",
       "      <td>6000105907280</td>\n",
       "      <td>41475613</td>\n",
       "      <td>State of the art ingredients!</td>\n",
       "      <td>5</td>\n",
       "      <td>I had been hearing good things about this mois...</td>\n",
       "      <td>2014-12-16 15:38:32+00:00</td>\n",
       "      <td>18</td>\n",
       "      <td>0</td>\n",
       "      <td>CeraVe® Moisturizing Cream</td>\n",
       "      <td>CeraVe</td>\n",
       "      <td>4.7209</td>\n",
       "      <td>13913.0</td>\n",
       "    </tr>\n",
       "    <tr>\n",
       "      <th>108191</th>\n",
       "      <td>6000105907280</td>\n",
       "      <td>33190048</td>\n",
       "      <td>DEEP MOISTERIZING RELIEF</td>\n",
       "      <td>5</td>\n",
       "      <td>This product was recommended by a Specialist. ...</td>\n",
       "      <td>2014-07-07 03:13:09+00:00</td>\n",
       "      <td>16</td>\n",
       "      <td>0</td>\n",
       "      <td>CeraVe® Moisturizing Cream</td>\n",
       "      <td>CeraVe</td>\n",
       "      <td>4.7209</td>\n",
       "      <td>13913.0</td>\n",
       "    </tr>\n",
       "    <tr>\n",
       "      <th>108192</th>\n",
       "      <td>6000105907280</td>\n",
       "      <td>23784409</td>\n",
       "      <td>Truly Effective!</td>\n",
       "      <td>5</td>\n",
       "      <td>An allergist recommended this cream for my 9 m...</td>\n",
       "      <td>2014-04-13 13:49:44+00:00</td>\n",
       "      <td>27</td>\n",
       "      <td>0</td>\n",
       "      <td>CeraVe® Moisturizing Cream</td>\n",
       "      <td>CeraVe</td>\n",
       "      <td>4.7209</td>\n",
       "      <td>13913.0</td>\n",
       "    </tr>\n",
       "  </tbody>\n",
       "</table>\n",
       "<p>108193 rows × 12 columns</p>\n",
       "</div>"
      ],
      "text/plain": [
       "           product_id  review_id  \\\n",
       "0       6000200804361  242351309   \n",
       "1       6000200804361  242038751   \n",
       "2       6000200804361  241958510   \n",
       "3       6000200804361  241914339   \n",
       "4       6000200804361  241706603   \n",
       "...               ...        ...   \n",
       "108188  6000105907280   52641253   \n",
       "108189  6000105907280   52103398   \n",
       "108190  6000105907280   41475613   \n",
       "108191  6000105907280   33190048   \n",
       "108192  6000105907280   23784409   \n",
       "\n",
       "                                               title  rating  \\\n",
       "0                                     Non irritating       5   \n",
       "1                               Great daily cleanser       4   \n",
       "2                               Excellent Face wash!       5   \n",
       "3       This gel will leave your face like a barbie.       5   \n",
       "4                                  No more dry skin.       5   \n",
       "...                                              ...     ...   \n",
       "108188                                   Thick cream       1   \n",
       "108189                                Great product.       5   \n",
       "108190                 State of the art ingredients!       5   \n",
       "108191                      DEEP MOISTERIZING RELIEF       5   \n",
       "108192                              Truly Effective!       5   \n",
       "\n",
       "                                                     text  \\\n",
       "0       Love it! I’ve been using this product every da...   \n",
       "1       This is a great daily cleanser for those with ...   \n",
       "2       I won't use anything other than this face wash...   \n",
       "3       If I had to buy it again, I would buy it a tho...   \n",
       "4       If you’re looking for a cleanser that cleans b...   \n",
       "...                                                   ...   \n",
       "108188  bought it 2 weeks ago, doesnt absorb into my s...   \n",
       "108189  I had a big problem with a itchy back and this...   \n",
       "108190  I had been hearing good things about this mois...   \n",
       "108191  This product was recommended by a Specialist. ...   \n",
       "108192  An allergist recommended this cream for my 9 m...   \n",
       "\n",
       "                            date  pos_feedback_count  client_res_count  \\\n",
       "0      2023-03-01 05:07:08+00:00                   0                 0   \n",
       "1      2023-02-25 17:47:47+00:00                   0                 0   \n",
       "2      2023-02-24 23:01:46+00:00                   0                 0   \n",
       "3      2023-02-24 11:58:27+00:00                   0                 0   \n",
       "4      2023-02-21 23:32:55+00:00                   0                 0   \n",
       "...                          ...                 ...               ...   \n",
       "108188 2015-05-10 15:49:36+00:00                   4                 0   \n",
       "108189 2015-05-04 19:14:28+00:00                   0                 0   \n",
       "108190 2014-12-16 15:38:32+00:00                  18                 0   \n",
       "108191 2014-07-07 03:13:09+00:00                  16                 0   \n",
       "108192 2014-04-13 13:49:44+00:00                  27                 0   \n",
       "\n",
       "                                                     name   brand  avg_rating  \\\n",
       "0       CeraVe Gentle Foaming Facial Cleanser With Nia...  CeraVe      4.6812   \n",
       "1       CeraVe Gentle Foaming Facial Cleanser With Nia...  CeraVe      4.6812   \n",
       "2       CeraVe Gentle Foaming Facial Cleanser With Nia...  CeraVe      4.6812   \n",
       "3       CeraVe Gentle Foaming Facial Cleanser With Nia...  CeraVe      4.6812   \n",
       "4       CeraVe Gentle Foaming Facial Cleanser With Nia...  CeraVe      4.6812   \n",
       "...                                                   ...     ...         ...   \n",
       "108188                         CeraVe® Moisturizing Cream  CeraVe      4.7209   \n",
       "108189                         CeraVe® Moisturizing Cream  CeraVe      4.7209   \n",
       "108190                         CeraVe® Moisturizing Cream  CeraVe      4.7209   \n",
       "108191                         CeraVe® Moisturizing Cream  CeraVe      4.7209   \n",
       "108192                         CeraVe® Moisturizing Cream  CeraVe      4.7209   \n",
       "\n",
       "        total_reviews  \n",
       "0              6869.0  \n",
       "1              6869.0  \n",
       "2              6869.0  \n",
       "3              6869.0  \n",
       "4              6869.0  \n",
       "...               ...  \n",
       "108188        13913.0  \n",
       "108189        13913.0  \n",
       "108190        13913.0  \n",
       "108191        13913.0  \n",
       "108192        13913.0  \n",
       "\n",
       "[108193 rows x 12 columns]"
      ]
     },
     "execution_count": 38,
     "metadata": {},
     "output_type": "execute_result"
    }
   ],
   "source": [
    "df.groupby"
   ]
  },
  {
   "cell_type": "code",
   "execution_count": null,
   "metadata": {},
   "outputs": [],
   "source": []
  }
 ],
 "metadata": {
  "kernelspec": {
   "display_name": "Data Analysis",
   "language": "python",
   "name": "data_analysis"
  },
  "language_info": {
   "codemirror_mode": {
    "name": "ipython",
    "version": 3
   },
   "file_extension": ".py",
   "mimetype": "text/x-python",
   "name": "python",
   "nbconvert_exporter": "python",
   "pygments_lexer": "ipython3",
   "version": "3.9.11"
  },
  "orig_nbformat": 4,
  "vscode": {
   "interpreter": {
    "hash": "3828e21e3a973d43c5a9b240b2120214b4b5f019792a0c479a7f451ccb3311cb"
   }
  }
 },
 "nbformat": 4,
 "nbformat_minor": 2
}
